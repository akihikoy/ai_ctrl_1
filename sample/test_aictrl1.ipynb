{
 "cells": [
  {
   "cell_type": "code",
   "execution_count": 34,
   "metadata": {},
   "outputs": [],
   "source": [
    "#/usr/bin/python\n",
    "import sys\n",
    "sys.path.append('../sample')\n",
    "from libaictrl1 import *"
   ]
  },
  {
   "cell_type": "code",
   "execution_count": 11,
   "metadata": {},
   "outputs": [
    {
     "name": "stdout",
     "output_type": "stream",
     "text": [
      "Opened a port: /dev/ttyUSB0\n",
      "Changed the baud rate to: 57600\n",
      "Torque disabled\n",
      "Torque enabled\n",
      "2100 1968 885\n",
      "Current position= 1967\n"
     ]
    }
   ],
   "source": [
    "dxl= SetupRobot()\n",
    "#MoveToInit(dxl)\n",
    "MoveToTrg(dxl, 0.2, 1.0)"
   ]
  },
  {
   "cell_type": "code",
   "execution_count": 12,
   "metadata": {},
   "outputs": [
    {
     "name": "stdout",
     "output_type": "stream",
     "text": [
      "2100 1577 619\n",
      "Current position= 1580\n"
     ]
    }
   ],
   "source": [
    "MoveToTrg(dxl, 0.8, 0.7)"
   ]
  },
  {
   "cell_type": "code",
   "execution_count": 35,
   "metadata": {},
   "outputs": [
    {
     "name": "stdout",
     "output_type": "stream",
     "text": [
      "f(0.55)= 0.311717299052\n"
     ]
    }
   ],
   "source": [
    "data_x= [0.5, 0.6, 0.8, 1.0]\n",
    "data_y= [0.2, 0.4, 0.7, 0.8]\n",
    "#f= TrainGPR(data_x, data_y)\n",
    "f= TrainMLPR(data_x, data_y)\n",
    "print 'f(0.55)=',f(0.55)"
   ]
  },
  {
   "cell_type": "code",
   "execution_count": 36,
   "metadata": {},
   "outputs": [
    {
     "data": {
      "image/png": "[encoded data removed]",
      "text/plain": [
       "<matplotlib.figure.Figure at 0x7fcc4c2f8b50>"
      ]
     },
     "metadata": {},
     "output_type": "display_data"
    }
   ],
   "source": [
    "plot= PlotF(f, xmin=0.0, xmax=1.0, show=False)\n",
    "plot.plot(data_x, data_y, 'o')\n",
    "plot.show()"
   ]
  },
  {
   "cell_type": "code",
   "execution_count": 37,
   "metadata": {},
   "outputs": [
    {
     "name": "stdout",
     "output_type": "stream",
     "text": [
      "WARNING: optimization in 1-D is not supported (code was never tested)\n",
      "initial solution x0= [ 0.5]\n",
      "(2_w,4mirr1)-aCMA-ES (mu_w=1.5,w_1=80%) in dimension 1 (seed=717304, Wed Aug 29 16:09:58 2018)\n",
      "Iterat #Fevals   function value    axis ratio  sigma  minstd maxstd min:sec\n",
      "    1       4 1.178595749494773e-03 1.0e+00 5.22e-01  5e-01  5e-01 0:0.0\n",
      "    2       8 9.484180258157919e-03 1.0e+00 7.37e-01  8e-01  8e-01 0:0.0\n",
      "    3      12 7.533498076905893e-03 1.0e+00 6.19e-01  6e-01  6e-01 0:0.0\n",
      "   59     236 1.321466868325337e-15 1.0e+00 1.25e-05  4e-08  4e-08 0:0.1\n",
      "termination on tolfun=1e-11 (Wed Aug 29 16:09:59 2018)\n",
      "final/bestever f-value = 1.373595e-15 8.468785e-20\n",
      "mean solution: [ 0.74842166]\n",
      "std deviation: [  3.85279503e-08]\n",
      "Solution: 0.748421684807 8.46878504165e-20 0.600000000291\n"
     ]
    }
   ],
   "source": [
    "#Define an objective function:\n",
    "def f_error(x):\n",
    "  y_trg= 0.6\n",
    "  return (y_trg-f(x))**2\n",
    "\n",
    "x_des= FMin(f_error, 0.5, 0.0, 1.0)\n",
    "print 'Solution:', x_des, f_error(x_des), f(x_des)"
   ]
  },
  {
   "cell_type": "code",
   "execution_count": 38,
   "metadata": {},
   "outputs": [
    {
     "data": {
      "image/png": "[encoded data removed]",
      "text/plain": [
       "<matplotlib.figure.Figure at 0x7fcc4c1a8210>"
      ]
     },
     "metadata": {},
     "output_type": "display_data"
    }
   ],
   "source": [
    "plot= PlotF(f, xmin=0.0, xmax=1.0, show=False)\n",
    "plot.plot(data_x, data_y, 'o')\n",
    "plot.plot([x_des], [[f(x_des)]], '*')\n",
    "plot.show()"
   ]
  },
  {
   "cell_type": "code",
   "execution_count": 21,
   "metadata": {},
   "outputs": [
    {
     "name": "stdout",
     "output_type": "stream",
     "text": [
      "2100 1968 885\n",
      "Current position= 1967\n"
     ]
    }
   ],
   "source": [
    "MoveToTrg(dxl, 0.2, 1.0)"
   ]
  },
  {
   "cell_type": "code",
   "execution_count": 22,
   "metadata": {},
   "outputs": [
    {
     "name": "stdout",
     "output_type": "stream",
     "text": [
      "2100 1577 796\n",
      "Current position= 1580\n"
     ]
    }
   ],
   "source": [
    "x= 0.9\n",
    "MoveToTrg(dxl, 0.8, x)"
   ]
  },
  {
   "cell_type": "code",
   "execution_count": 39,
   "metadata": {},
   "outputs": [
    {
     "data": {
      "text/plain": [
       "0.8801356544622235"
      ]
     },
     "execution_count": 39,
     "metadata": {},
     "output_type": "execute_result"
    }
   ],
   "source": [
    "#Repeat above two lines for different x.\n",
    "#For changing x, choose from: 1. change x manually, 2. use random number generator:\n",
    "random.random()"
   ]
  },
  {
   "cell_type": "code",
   "execution_count": 47,
   "metadata": {},
   "outputs": [
    {
     "data": {
      "image/png": "[encoded data removed]",
      "text/plain": [
       "<matplotlib.figure.Figure at 0x7fcc4ba1d0d0>"
      ]
     },
     "metadata": {},
     "output_type": "display_data"
    }
   ],
   "source": [
    "#Construct the data set:\n",
    "data_x= [0.5, 0.6, 0.8, 1.0]\n",
    "data_y= [0.2, 0.4, 0.7, 0.8]\n",
    "#Train a regression model\n",
    "#f= TrainGPR(data_x, data_y)\n",
    "f= TrainMLPR(data_x, data_y)\n",
    "#Plot the function\n",
    "plot= PlotF(f, xmin=0.0, xmax=1.0, show=False)\n",
    "plot.plot(data_x, data_y, 'o')\n",
    "plot.show()"
   ]
  },
  {
   "cell_type": "code",
   "execution_count": 49,
   "metadata": {},
   "outputs": [
    {
     "name": "stdout",
     "output_type": "stream",
     "text": [
      "WARNING: optimization in 1-D is not supported (code was never tested)\n",
      "initial solution x0= [ 0.5]\n",
      "(2_w,4mirr1)-aCMA-ES (mu_w=1.5,w_1=80%) in dimension 1 (seed=569485, Wed Aug 29 16:12:56 2018)\n",
      "Iterat #Fevals   function value    axis ratio  sigma  minstd maxstd min:sec\n",
      "    1       4 6.176084660717836e-07 1.0e+00 5.17e-01  5e-01  5e-01 0:0.0\n",
      "    2       8 1.125925908440075e-02 1.0e+00 4.17e-01  4e-01  4e-01 0:0.0\n",
      "    3      12 1.233490213946631e-04 1.0e+00 6.68e-01  7e-01  7e-01 0:0.0\n",
      "   47     188 2.300371545054569e-16 1.0e+00 8.95e-06  4e-08  4e-08 0:0.1\n",
      "termination on tolfun=1e-11 (Wed Aug 29 16:12:56 2018)\n",
      "final/bestever f-value = 2.374339e-16 2.095636e-17\n",
      "mean solution: [ 0.75044733]\n",
      "std deviation: [  4.35405410e-08]\n",
      "Solution: 0.750447313724 2.095635576e-17 0.599999995422\n"
     ]
    }
   ],
   "source": [
    "#Control the robot to the target position.\n",
    "#First, find a control parameter.\n",
    "def f_error(x):\n",
    "    y_trg= 0.6\n",
    "    return (y_trg-f(x))**2\n",
    "\n",
    "x_des= FMin(f_error, 0.5, 0.0, 1.0)\n",
    "print 'Solution:', x_des, f_error(x_des), f(x_des)"
   ]
  },
  {
   "cell_type": "code",
   "execution_count": 26,
   "metadata": {},
   "outputs": [
    {
     "name": "stdout",
     "output_type": "stream",
     "text": [
      "2100 1968 885\n",
      "Current position= 1966\n"
     ]
    }
   ],
   "source": [
    "#Execute the solution.\n",
    "MoveToTrg(dxl, 0.2, 1.0)"
   ]
  },
  {
   "cell_type": "code",
   "execution_count": 27,
   "metadata": {},
   "outputs": [
    {
     "name": "stdout",
     "output_type": "stream",
     "text": [
      "2100 1577 648\n",
      "Current position= 1580\n"
     ]
    }
   ],
   "source": [
    "MoveToTrg(dxl, 0.8, x_des)"
   ]
  },
  {
   "cell_type": "code",
   "execution_count": null,
   "metadata": {},
   "outputs": [],
   "source": []
  }
 ],
 "metadata": {
  "kernelspec": {
   "display_name": "Python 2",
   "language": "python",
   "name": "python2"
  },
  "language_info": {
   "codemirror_mode": {
    "name": "ipython",
    "version": 2
   },
   "file_extension": ".py",
   "mimetype": "text/x-python",
   "name": "python",
   "nbconvert_exporter": "python",
   "pygments_lexer": "ipython2",
   "version": "2.7.12"
  }
 },
 "nbformat": 4,
 "nbformat_minor": 2
}
